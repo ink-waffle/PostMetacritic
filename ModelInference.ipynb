{
 "cells": [
  {
   "cell_type": "code",
   "execution_count": 13,
   "metadata": {
    "collapsed": true,
    "ExecuteTime": {
     "start_time": "2023-09-04T17:23:11.029144Z",
     "end_time": "2023-09-04T17:23:11.045312Z"
    }
   },
   "outputs": [],
   "source": [
    "import os\n",
    "import openai\n",
    "import json\n",
    "from Keys import openai_keys\n",
    "import re\n",
    "from sklearn.ensemble import RandomForestClassifier\n",
    "from sklearn.model_selection import train_test_split\n",
    "from sklearn.metrics import classification_report, accuracy_score\n",
    "from sklearn import tree\n",
    "from sklearn.cluster import KMeans\n",
    "import joblib\n",
    "import numpy as np\n",
    "import pandas as pd\n",
    "\n",
    "openai.organization = openai_keys['organization']\n",
    "openai.api_key = openai_keys['api_key']\n",
    "embedding_model = \"text-embedding-ada-002\"\n",
    "\n",
    "def get_embedding(text, model=\"text-embedding-ada-002\"):\n",
    "   text = text.replace(\"\\n\", \" \")\n",
    "   return openai.Embedding.create(input = [text], model=model)['data'][0]['embedding']\n"
   ]
  },
  {
   "cell_type": "code",
   "execution_count": 4,
   "outputs": [],
   "source": [
    "# Load the JSON data from the file\n",
    "with open('Source/reddit-oppenheimer review-14.json', 'r') as json_file:\n",
    "    comments_by_post = json.load(json_file)"
   ],
   "metadata": {
    "collapsed": false,
    "ExecuteTime": {
     "start_time": "2023-09-04T16:57:29.790263Z",
     "end_time": "2023-09-04T16:57:29.805861Z"
    }
   }
  },
  {
   "cell_type": "code",
   "execution_count": 6,
   "outputs": [],
   "source": [
    "clf = joblib.load('models/embeddingsForest_1.pkl')"
   ],
   "metadata": {
    "collapsed": false,
    "ExecuteTime": {
     "start_time": "2023-09-04T16:59:36.836897Z",
     "end_time": "2023-09-04T16:59:37.397415Z"
    }
   }
  },
  {
   "cell_type": "code",
   "execution_count": 16,
   "outputs": [
    {
     "name": "stdout",
     "output_type": "stream",
     "text": [
      "1/5\n",
      "2/5\n",
      "3/5\n",
      "4/5\n",
      "5/5\n"
     ]
    }
   ],
   "source": [
    "class Post:\n",
    "    def __init__(self, title, analysis, raw, debug=None):\n",
    "        self.title = title\n",
    "        self.sentiment = analysis\n",
    "        self.raw = raw\n",
    "        self.debug = debug\n",
    "\n",
    "redditSentiment = list()\n",
    "iter = 0\n",
    "for title, comments in comments_by_post.items():\n",
    "    x = list()\n",
    "    for com in comments:\n",
    "        tmp = get_embedding(str(title) + \" : \" + str(com), model=embedding_model)\n",
    "        x.append(tmp)\n",
    "\n",
    "    X = np.array(x).reshape((len(x), -1))\n",
    "\n",
    "    y = clf.predict(X)\n",
    "    y_pred = clf.predict_proba(X)\n",
    "    redditSentiment.append(Post(title, y, comments, y_pred))\n",
    "    iter += 1\n",
    "    print(str(iter) + \"/\" + str(len(comments_by_post)))"
   ],
   "metadata": {
    "collapsed": false,
    "ExecuteTime": {
     "start_time": "2023-09-04T17:57:43.322498Z",
     "end_time": "2023-09-04T17:58:18.946429Z"
    }
   }
  },
  {
   "cell_type": "code",
   "execution_count": 18,
   "outputs": [],
   "source": [
    "for sent in redditSentiment:\n",
    "    for i in range(len(sent.raw)):\n",
    "        if input(str(sent.raw[i]) + \"\\nRating: \" + str(sent.sentiment[i]) + \"\\nProbs: \" + str(sent.debug[i])) == \"stop\":\n",
    "            break"
   ],
   "metadata": {
    "collapsed": false,
    "ExecuteTime": {
     "start_time": "2023-09-04T18:00:13.811763Z",
     "end_time": "2023-09-04T18:36:58.695472Z"
    }
   }
  }
 ],
 "metadata": {
  "kernelspec": {
   "display_name": "Python 3",
   "language": "python",
   "name": "python3"
  },
  "language_info": {
   "codemirror_mode": {
    "name": "ipython",
    "version": 2
   },
   "file_extension": ".py",
   "mimetype": "text/x-python",
   "name": "python",
   "nbconvert_exporter": "python",
   "pygments_lexer": "ipython2",
   "version": "2.7.6"
  }
 },
 "nbformat": 4,
 "nbformat_minor": 0
}
