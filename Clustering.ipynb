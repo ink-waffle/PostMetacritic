{
 "cells": [
  {
   "cell_type": "code",
   "execution_count": 1,
   "metadata": {
    "collapsed": true,
    "ExecuteTime": {
     "start_time": "2023-09-04T21:23:14.707059Z",
     "end_time": "2023-09-04T21:23:16.762496Z"
    }
   },
   "outputs": [],
   "source": [
    "import os\n",
    "import openai\n",
    "import json\n",
    "from Keys import openai_keys\n",
    "import re\n",
    "from sklearn.ensemble import RandomForestClassifier\n",
    "from sklearn.model_selection import train_test_split\n",
    "from sklearn.metrics import classification_report, accuracy_score\n",
    "from sklearn import tree\n",
    "from sklearn.cluster import KMeans\n",
    "from sklearn.cluster import DBSCAN\n",
    "import joblib\n",
    "import numpy as np\n",
    "import pandas as pd\n",
    "\n",
    "openai.organization = openai_keys['organization']\n",
    "openai.api_key = openai_keys['api_key']\n",
    "embedding_model = \"text-embedding-ada-002\"\n",
    "\n",
    "def get_embedding(text, model=\"text-embedding-ada-002\"):\n",
    "   text = text.replace(\"\\n\", \" \")\n",
    "   return openai.Embedding.create(input = [text], model=model)['data'][0]['embedding']"
   ]
  },
  {
   "cell_type": "code",
   "execution_count": 2,
   "outputs": [],
   "source": [
    "# Load the JSON data from the file\n",
    "with open('Source/reddit-oppenheimer-26.json', 'r') as json_file:\n",
    "    comments_by_post = json.load(json_file)\n"
   ],
   "metadata": {
    "collapsed": false,
    "ExecuteTime": {
     "start_time": "2023-09-04T21:23:17.521226Z",
     "end_time": "2023-09-04T21:23:17.536852Z"
    }
   }
  },
  {
   "cell_type": "code",
   "execution_count": 17,
   "outputs": [
    {
     "name": "stdout",
     "output_type": "stream",
     "text": [
      "1/19\n",
      "2/19\n",
      "3/19\n",
      "4/19\n",
      "5/19\n",
      "6/19\n",
      "7/19\n",
      "8/19\n",
      "9/19\n",
      "10/19\n",
      "11/19\n",
      "12/19\n",
      "13/19\n",
      "14/19\n",
      "15/19\n",
      "16/19\n",
      "17/19\n",
      "18/19\n",
      "19/19\n"
     ]
    }
   ],
   "source": [
    "x = list()\n",
    "post_comments = list()\n",
    "iter = 0\n",
    "for title, comments in comments_by_post.items():\n",
    "    for com in comments:\n",
    "        tmp = get_embedding(str(com), model=embedding_model)\n",
    "        post_comments.append(str(com))\n",
    "        x.append(tmp)\n",
    "\n",
    "    # X = np.array(x).reshape((len(x), -1))\n",
    "    iter += 1\n",
    "    print(str(iter) + \"/\" + str(len(comments_by_post)))\n",
    "X = np.array(x).reshape((len(x), -1))"
   ],
   "metadata": {
    "collapsed": false,
    "ExecuteTime": {
     "start_time": "2023-09-04T21:29:53.636384Z",
     "end_time": "2023-09-04T21:32:01.599494Z"
    }
   }
  },
  {
   "cell_type": "code",
   "execution_count": 53,
   "outputs": [],
   "source": [
    "clustering = DBSCAN(eps=0.57).fit(X)"
   ],
   "metadata": {
    "collapsed": false,
    "ExecuteTime": {
     "start_time": "2023-09-04T21:41:33.097627Z",
     "end_time": "2023-09-04T21:41:33.124771Z"
    }
   }
  },
  {
   "cell_type": "code",
   "execution_count": 54,
   "outputs": [],
   "source": [
    "clusters = dict()\n",
    "for i in range(X.shape[0]):\n",
    "    if clustering.labels_[i] in clusters:\n",
    "        clusters[clustering.labels_[i]].append(post_comments[i])\n",
    "    else:\n",
    "        clusters[clustering.labels_[i]] = [post_comments[i]]"
   ],
   "metadata": {
    "collapsed": false,
    "ExecuteTime": {
     "start_time": "2023-09-04T21:41:33.397828Z",
     "end_time": "2023-09-04T21:41:33.423617Z"
    }
   }
  },
  {
   "cell_type": "code",
   "execution_count": null,
   "outputs": [],
   "source": [],
   "metadata": {
    "collapsed": false
   }
  }
 ],
 "metadata": {
  "kernelspec": {
   "display_name": "Python 3",
   "language": "python",
   "name": "python3"
  },
  "language_info": {
   "codemirror_mode": {
    "name": "ipython",
    "version": 2
   },
   "file_extension": ".py",
   "mimetype": "text/x-python",
   "name": "python",
   "nbconvert_exporter": "python",
   "pygments_lexer": "ipython2",
   "version": "2.7.6"
  }
 },
 "nbformat": 4,
 "nbformat_minor": 0
}
