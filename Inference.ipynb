{
 "cells": [
  {
   "cell_type": "code",
   "execution_count": 1,
   "outputs": [
    {
     "name": "stdout",
     "output_type": "stream",
     "text": [
      "dict_keys(['consumer_key', 'consumer_secret', 'access_token', 'access_token_secret', 'Bearer'])\n"
     ]
    }
   ],
   "source": [
    "import praw\n",
    "import os\n",
    "import openai\n",
    "import json\n",
    "from Keys import openai_keys\n",
    "openai.organization = openai_keys['organization']\n",
    "openai.api_key = openai_keys['api_key']"
   ],
   "metadata": {
    "collapsed": false,
    "ExecuteTime": {
     "start_time": "2023-08-30T13:16:48.860227Z",
     "end_time": "2023-08-30T13:16:49.798379Z"
    }
   }
  },
  {
   "cell_type": "code",
   "execution_count": 2,
   "outputs": [],
   "source": [
    "# Load the JSON data from the file\n",
    "with open('Scrappings/oppenheimer.json', 'r') as json_file:\n",
    "    comments_by_post = json.load(json_file)\n",
    "\n",
    "# # Now you can access the comments for a specific post title\n",
    "# desired_post_title = \"Example Post Title\"\n",
    "# if desired_post_title in comments_by_post:\n",
    "#     comments_for_post = comments_by_post[desired_post_title]\n",
    "#     print(f\"Comments for '{desired_post_title}':\")\n",
    "#     for comment in comments_for_post:\n",
    "#         print(comment)\n",
    "# else:\n",
    "#     print(f\"No comments found for '{desired_post_title}'.\")"
   ],
   "metadata": {
    "collapsed": false,
    "ExecuteTime": {
     "start_time": "2023-08-30T01:00:01.528329Z",
     "end_time": "2023-08-30T01:00:01.543118Z"
    }
   }
  },
  {
   "cell_type": "code",
   "execution_count": null,
   "outputs": [],
   "source": [
    "class Post:\n",
    "    def __init__(self, postTitle):\n",
    "        self.title = postTitle\n",
    "        self.batches = list()\n",
    "\n",
    "class CommentBatch:\n",
    "    def __init__(self):\n",
    "        self.comments = list()\n",
    "        self.GPTAnalysis = \"\"\n",
    "posts = list()\n",
    "for sub in submissions:\n",
    "    sub.comment_sort = \"top\"\n",
    "    comments = sub.comments.list()\n",
    "    c = 0\n",
    "    i = 2\n",
    "    post = Post(sub.title)\n",
    "    while i > 0:\n",
    "        prompts = [{\"role\": \"system\", \"content\":\n",
    "              'You will be given 4 Reddit comments under a post - \"' + sub.title + '\", each comment is embedded into curly brackets ({}). Your goal is to write sentiment analysis of each comment towards the topic - \"movie Oppenheimer\", in a format RATING - KEYWORDS. Where RATING is a number from 0 to 10, where 0 is drastically negative attitude to the topic, and 10 is a drastically positive, or -1 if comment is unrelated to the topic. Where KEYWORDS are 2-3 words or phrases, separated by a comma (,), taken from the comment most indicative of reasons for such attitude. Dont write anything besides the format'}]\n",
    "        prompt = \"\"\n",
    "        j = 3\n",
    "        minibatch = CommentBatch()\n",
    "        while j >= 0:\n",
    "            if type(comments[c]) is not praw.models.Comment:\n",
    "                c+=1\n",
    "                continue\n",
    "            temp = \"{\" + comments[c].body + (\"},\\n\" if j > 0 else \"}\")\n",
    "            prompt += temp\n",
    "            minibatch.comments.append(temp)\n",
    "            j -= 1\n",
    "            c += 1\n",
    "        prompts.append({\"role\": \"user\", \"content\": prompt},)\n",
    "        chat = openai.ChatCompletion.create(model=\"gpt-3.5-turbo\", messages=prompts)\n",
    "        reply = chat.choices[0].message.content\n",
    "        minibatch.GPTAnalysis = reply\n",
    "        post.batches.append(minibatch)\n",
    "        # print(reply)\n",
    "        i -= 1\n",
    "    posts.append(post)"
   ],
   "metadata": {
    "collapsed": false
   }
  }
 ],
 "metadata": {
  "kernelspec": {
   "display_name": "Python 3",
   "language": "python",
   "name": "python3"
  },
  "language_info": {
   "codemirror_mode": {
    "name": "ipython",
    "version": 2
   },
   "file_extension": ".py",
   "mimetype": "text/x-python",
   "name": "python",
   "nbconvert_exporter": "python",
   "pygments_lexer": "ipython2",
   "version": "2.7.6"
  }
 },
 "nbformat": 4,
 "nbformat_minor": 0
}
