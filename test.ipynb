{
 "cells": [
  {
   "cell_type": "code",
   "execution_count": 1,
   "outputs": [],
   "source": [
    "import time\n",
    "from transformers import T5Tokenizer, T5ForConditionalGeneration\n",
    "import os\n",
    "import math\n",
    "import openai\n",
    "import json\n",
    "from Keys import openai_keys\n",
    "import re\n",
    "import sklearn\n",
    "from sklearn.ensemble import RandomForestClassifier\n",
    "from sklearn.model_selection import train_test_split\n",
    "from sklearn.metrics import classification_report, accuracy_score\n",
    "from sklearn import tree\n",
    "from sklearn.cluster import KMeans\n",
    "from sklearn.cluster import DBSCAN\n",
    "from sklearn.mixture import GaussianMixture\n",
    "from sklearn.manifold import TSNE\n",
    "import joblib\n",
    "import numpy as np\n",
    "import pandas as pd\n",
    "import random\n",
    "from keybert import KeyBERT\n",
    "import seaborn as sns\n",
    "import matplotlib.pyplot as plt\n",
    "from matplotlib import cm\n",
    "from collections import Counter\n",
    "import plotly.express as px\n",
    "import plotly.offline as pyo\n",
    "import plotly.graph_objects as go\n",
    "import tensorflow as tf\n",
    "from tensorflow.keras.models import load_model"
   ],
   "metadata": {
    "collapsed": false,
    "ExecuteTime": {
     "start_time": "2023-10-20T21:30:52.398040Z",
     "end_time": "2023-10-20T21:31:03.086554Z"
    }
   }
  },
  {
   "cell_type": "code",
   "execution_count": 3,
   "outputs": [
    {
     "name": "stdout",
     "output_type": "stream",
     "text": [
      "Time taken: 0.6125099658966064 seconds\n",
      "the action button. the action buttons or triple tab with other functions? the action button\n"
     ]
    }
   ],
   "source": [
    "\n",
    "\n",
    "# Load the model and tokenizer\n",
    "model = T5ForConditionalGeneration.from_pretrained('t5-small')\n",
    "tokenizer = T5Tokenizer.from_pretrained('t5-small')\n",
    "\n",
    "# Your text input\n",
    "texts = [\"I really wish they would have allowed you to map multiple actions to the new button. For example, hold to mute, double-click to open the camera and triple click to turn on Focus. Maybe we'll see that in the future.\", 'While the addition of the action button is certainly welcome, it seems like a really obvious missed opportunity to not have multi-input customization support for it. Being able to customize it to do a thing with a single tap is cool, but they could have so', \"I'd be more impressed with the new button if they allowed customization for a short press, long press, double press, and triple press.\", 'Action button can be used only for just 1 option. Could action button do double press, triple press, hold for 2 secs and have 3 options.', 'Can the action button only have 1 function at a time or multiple ? As in double press for one a hold for another a quick press for another ?', ]\n",
    "text = 'You should be able to do more than one thing with the Action Button. How about double or triple tab with other functions? the action button should have more than one customizable option. like two taps, three taps, one tap and one long press. Would be nice to double tap the action buttons or triple to add different actions All I’m hearing, it seems, it that the action button is only going to allow for one customizable action. I’m really hoping that isn’t the case because it seems like it wouldn’t be an issue to add different actions like one press for mute, double press for Can the action button only have 1 function at a time or multiple ? As in double press for one a hold for another a quick press for another ? Action button can be used only for just 1 option. Could action button do double press, triple press, hold for 2 secs and have 3 options. Id be more impressed with the new button if they allowed customization for a short press, long press, double press, and triple press. While the addition of the action button is certainly welcome, it seems like a really obvious missed opportunity to not have multi-input customization support for it. Being able to customize it to do a thing with a single tap is cool, but they could have so I really wish they would have allowed you to map multiple actions to the new button. For example, hold to mute, double-click to open the camera and triple click to turn on Focus. Maybe we will see that in the future.'\n",
    "\n",
    "start_time = time.time()\n",
    "# Tokenize the text and obtain output tokens\n",
    "input_ids = tokenizer(text, return_tensors=\"pt\").input_ids\n",
    "\n",
    "# Measure the time taken to generate a summary\n",
    "\n",
    "summary_ids = model.generate(input_ids)\n",
    "end_time = time.time()\n",
    "\n",
    "# Calculate and print the time taken\n",
    "time_taken = end_time - start_time\n",
    "print(f'Time taken: {time_taken} seconds')\n",
    "\n",
    "# Decode and print the summary\n",
    "summary = tokenizer.decode(summary_ids[0], skip_special_tokens=True)\n",
    "print(summary)"
   ],
   "metadata": {
    "collapsed": false,
    "ExecuteTime": {
     "start_time": "2023-10-20T21:44:08.704929Z",
     "end_time": "2023-10-20T21:44:11.550162Z"
    }
   }
  },
  {
   "cell_type": "code",
   "execution_count": null,
   "outputs": [],
   "source": [],
   "metadata": {
    "collapsed": false
   }
  }
 ],
 "metadata": {
  "kernelspec": {
   "display_name": "Python 3",
   "language": "python",
   "name": "python3"
  },
  "language_info": {
   "codemirror_mode": {
    "name": "ipython",
    "version": 2
   },
   "file_extension": ".py",
   "mimetype": "text/x-python",
   "name": "python",
   "nbconvert_exporter": "python",
   "pygments_lexer": "ipython2",
   "version": "2.7.6"
  }
 },
 "nbformat": 4,
 "nbformat_minor": 0
}
