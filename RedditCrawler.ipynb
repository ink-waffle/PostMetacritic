{
 "cells": [
  {
   "cell_type": "code",
   "execution_count": 2,
   "metadata": {
    "collapsed": true,
    "ExecuteTime": {
     "start_time": "2023-08-30T00:49:41.423898Z",
     "end_time": "2023-08-30T00:49:42.365331Z"
    }
   },
   "outputs": [],
   "source": [
    "import praw\n",
    "import os\n",
    "from Keys import reddit_keys\n",
    "reddit = praw.Reddit(\n",
    "    client_id=reddit_keys['client_id'],\n",
    "    client_secret=reddit_keys['client_secret'],\n",
    "    user_agent=reddit_keys['user_agent']\n",
    ")\n",
    "import json"
   ]
  },
  {
   "cell_type": "code",
   "execution_count": 3,
   "outputs": [],
   "source": [
    "entry = \"oppenheimer\"\n",
    "submissions = list()\n",
    "for sub in reddit.subreddit(\"all\").search(entry, sort=\"top\", limit=5):\n",
    "    submissions.append(sub)"
   ],
   "metadata": {
    "collapsed": false,
    "ExecuteTime": {
     "start_time": "2023-08-30T00:49:42.643556Z",
     "end_time": "2023-08-30T00:49:43.903353Z"
    }
   }
  },
  {
   "cell_type": "code",
   "execution_count": 5,
   "outputs": [
    {
     "name": "stderr",
     "output_type": "stream",
     "text": [
      "C:\\Users\\Admin\\anaconda3\\lib\\site-packages\\praw\\models\\reddit\\submission.py:619: UserWarning: The comments for this submission have already been fetched, so the updated comment_sort will not have any effect.\n",
      "  warn(\n"
     ]
    }
   ],
   "source": [
    "comments_by_post = {}  # Dictionary to store comments by post\n",
    "\n",
    "for sub in submissions:  # You can adjust the limit as needed\n",
    "    comments = []\n",
    "    sub.comment_sort = \"top\"\n",
    "    for comment in sub.comments.list():\n",
    "        if type(comment) is praw.models.Comment:\n",
    "            comments.append(comment.body)\n",
    "\n",
    "    comments_by_post[sub.title] = comments\n",
    "\n"
   ],
   "metadata": {
    "collapsed": false,
    "ExecuteTime": {
     "start_time": "2023-08-30T00:50:35.723939Z",
     "end_time": "2023-08-30T00:50:45.709763Z"
    }
   }
  },
  {
   "cell_type": "code",
   "execution_count": 6,
   "outputs": [],
   "source": [
    "# Save the data as JSON\n",
    "with open('Scrappings/reddit-' + entry + '.json', 'w') as json_file:\n",
    "    json.dump(comments_by_post, json_file, indent=4)"
   ],
   "metadata": {
    "collapsed": false,
    "ExecuteTime": {
     "start_time": "2023-08-30T00:56:39.276935Z",
     "end_time": "2023-08-30T00:56:39.307447Z"
    }
   }
  },
  {
   "cell_type": "code",
   "execution_count": 46,
   "outputs": [],
   "source": [
    "i = 0\n",
    "submissions[i].comment_sort = \"top\"\n",
    "comments = submissions[i].comments.list()"
   ],
   "metadata": {
    "collapsed": false
   }
  }
 ],
 "metadata": {
  "kernelspec": {
   "display_name": "Python 3",
   "language": "python",
   "name": "python3"
  },
  "language_info": {
   "codemirror_mode": {
    "name": "ipython",
    "version": 2
   },
   "file_extension": ".py",
   "mimetype": "text/x-python",
   "name": "python",
   "nbconvert_exporter": "python",
   "pygments_lexer": "ipython2",
   "version": "2.7.6"
  }
 },
 "nbformat": 4,
 "nbformat_minor": 0
}
