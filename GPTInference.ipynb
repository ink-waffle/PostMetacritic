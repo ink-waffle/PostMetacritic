{
 "cells": [
  {
   "cell_type": "code",
   "execution_count": 15,
   "metadata": {
    "collapsed": true,
    "ExecuteTime": {
     "start_time": "2023-08-30T20:07:12.575237Z",
     "end_time": "2023-08-30T20:07:12.599238Z"
    }
   },
   "outputs": [],
   "source": [
    "import os\n",
    "import openai\n",
    "import json\n",
    "from Keys import openai_keys\n",
    "import re\n",
    "openai.organization = openai_keys['organization']\n",
    "openai.api_key = openai_keys['api_key']"
   ]
  },
  {
   "cell_type": "code",
   "execution_count": 12,
   "outputs": [],
   "source": [
    "# Load the JSON data from the file\n",
    "with open('Source/reddit-oppenheimer-26.json', 'r') as json_file:\n",
    "    comments_by_post = json.load(json_file)"
   ],
   "metadata": {
    "collapsed": false,
    "ExecuteTime": {
     "start_time": "2023-08-30T20:04:29.925680Z",
     "end_time": "2023-08-30T20:04:29.944642Z"
    }
   }
  },
  {
   "cell_type": "code",
   "execution_count": 13,
   "outputs": [],
   "source": [
    "class Post:\n",
    "    def __init__(self, title, analysis, raw):\n",
    "        self.title = title\n",
    "        self.analysis = analysis\n",
    "        self.raw = raw"
   ],
   "metadata": {
    "collapsed": false,
    "ExecuteTime": {
     "start_time": "2023-08-30T20:04:35.740532Z",
     "end_time": "2023-08-30T20:04:35.749541Z"
    }
   }
  },
  {
   "cell_type": "code",
   "execution_count": 14,
   "outputs": [
    {
     "name": "stdout",
     "output_type": "stream",
     "text": [
      "1/19\n",
      "2/19\n",
      "3/19\n",
      "4/19\n",
      "5/19\n",
      "6/19\n",
      "7/19\n",
      "8/19\n",
      "9/19\n",
      "10/19\n",
      "11/19\n",
      "12/19\n",
      "13/19\n",
      "14/19\n",
      "15/19\n",
      "16/19\n",
      "17/19\n",
      "18/19\n",
      "19/19\n"
     ]
    }
   ],
   "source": [
    "redditSentiment = list()\n",
    "iter = 0\n",
    "for title, comments in comments_by_post.items():\n",
    "    prompts = [{\"role\": \"system\", \"content\":\n",
    "        'Analyse the sentiment of 16 Reddit comments under a post - \"' + str(title) + '\", use the delimiter \"\\n\\n==COMMENT==\\n\\n\" to distinguish individual comments. Your goal is to write sentiment analysis for each comment towards the topic - \"movie Oppenheimer\", in a format RATING - KEYWORDS. Where RATING is a number from 0 to 10, with 0 representing drastically negative attitude to the topic, 10 for a drastically positive, or 5 for neutral or a comment unrelated to a topic. KEYWORDS are 2-3 words or phrases taken unchanged from a comment, which are most indicative of reasons for such attitude, separate them with a comma (,). Use a semicolon (;) as the delimiter between each comment analysis. Example: \"8 - Exciting visuals, Nolan, direction; 4 - Confusing plot, slow pacing; 5 - long duration, too many characters;\"'}]\n",
    "    delimeter = \"\\n\\n==COMMENT==\\n\\n\"\n",
    "    prompt = delimeter.join(comments)\n",
    "    prompts.append({\"role\": \"user\", \"content\": prompt})\n",
    "    chat = openai.ChatCompletion.create(model=\"gpt-3.5-turbo-16k\", messages=prompts)\n",
    "    reply = chat.choices[0].message.content\n",
    "    redditSentiment.append(Post(title, reply.split(';'), prompt))\n",
    "    iter += 1\n",
    "    print(str(iter) + \"/\" + str(len(comments_by_post)))"
   ],
   "metadata": {
    "collapsed": false,
    "ExecuteTime": {
     "start_time": "2023-08-30T20:04:39.119373Z",
     "end_time": "2023-08-30T20:06:10.670988Z"
    }
   }
  },
  {
   "cell_type": "code",
   "execution_count": 32,
   "outputs": [],
   "source": [
    "rating = 0\n",
    "keywords = dict()\n",
    "for rPost in redditSentiment:\n",
    "    tempRating = 0\n",
    "    for com in rPost.analysis:\n",
    "        if len(com) <= 3:\n",
    "            continue\n",
    "        numbers = re.findall(r'\\d+', com)\n",
    "        if len(numbers) > 0:\n",
    "            tempRating += int(numbers[0])\n",
    "        kwords = com.replace(\"\\n\", \"\").split(' - ')[1]\n",
    "        kwords = kwords.split(',')\n",
    "        kwords = [i.strip(\" \") for i in kwords]\n",
    "        for i in kwords:\n",
    "            tmp = i.strip(\" \").lower()\n",
    "            if tmp in keywords:\n",
    "                keywords[tmp] += 1\n",
    "            else:\n",
    "                keywords[tmp] = 1\n",
    "    tempRating /= len(rPost.analysis)\n",
    "    rating += tempRating\n",
    "rating /= len(redditSentiment)"
   ],
   "metadata": {
    "collapsed": false,
    "ExecuteTime": {
     "start_time": "2023-08-30T23:17:25.212636Z",
     "end_time": "2023-08-30T23:17:25.229681Z"
    }
   }
  },
  {
   "cell_type": "code",
   "execution_count": 33,
   "outputs": [],
   "source": [
    "srted = list(reversed(sorted(keywords.items(), key=lambda item: item[1])))"
   ],
   "metadata": {
    "collapsed": false,
    "ExecuteTime": {
     "start_time": "2023-08-30T23:17:29.681702Z",
     "end_time": "2023-08-30T23:17:29.699282Z"
    }
   }
  },
  {
   "cell_type": "code",
   "execution_count": 38,
   "outputs": [
    {
     "name": "stdout",
     "output_type": "stream",
     "text": [
      "Margot Robbie vs mass destruction weapons.\n",
      "\n",
      "==COMMENT==\n",
      "\n",
      "Atomic bomb and blonde bombshell. I am become Doll, destroyer of young girls self image.\n",
      "\n",
      "==COMMENT==\n",
      "\n",
      "People have waaaaaay too much time on their hands\n",
      "\n",
      "==COMMENT==\n",
      "\n",
      "“I am become Barbie, destroyer of Ben Shapiro”\n",
      "\n",
      "==COMMENT==\n",
      "\n",
      "Osama Bin Laden and Bratz movies next year please.\n",
      "\n",
      "==COMMENT==\n",
      "\n",
      "Oppenheimer will stoke even more outrage once the muppets realize it doesn't actually glorify American militarism and nuclear weapons.\n",
      "\n",
      "==COMMENT==\n",
      "\n",
      "Guess which one has full frontal nudity.\n",
      "\n",
      "==COMMENT==\n",
      "\n",
      "Conservatives when a filmmaker that frequently discusses feminism in her films discusses feminism in her films: 🤯🤯\n",
      "\n",
      "==COMMENT==\n",
      "\n",
      "Ah yes, one of the most politcal controversy: plastic\n",
      "\n",
      "==COMMENT==\n",
      "\n",
      "Weirdly both of them.\n",
      "\n",
      "==COMMENT==\n",
      "\n",
      "Shouldn't have touched east Vietnam/ west Philippines sea.\n",
      "\n",
      "==COMMENT==\n",
      "\n",
      "Can we stop pretending that this is \"political outrage\"? The right wing grifters probably made their review videos after the first trailer dropped.\n",
      "\n",
      "==COMMENT==\n",
      "\n",
      "I think Greta Gerwig, Noah Baumbach and Margot Robbie would all disagree that it's really about a plastic doll. Haven't seen the film but from what I've heard it does make some social statements about feminism and the patriarchy. Not defending the outrage merchants but it's disingenuous to pretend it's really a film about a doll.\n",
      "\n",
      "==COMMENT==\n",
      "\n",
      "what outrage? I only ever see posts on this subreddit complaining about anti-barbie people but I never see anti-barbie posts\n",
      "\n",
      "==COMMENT==\n",
      "\n",
      "Saying Barbie is about a plastic doll is like saying Schindler's list is about a factory.\n",
      "\n",
      "Totally disingenuous.\n",
      "\n",
      "==COMMENT==\n",
      "\n",
      "To be fair Barbie is way more political than what you'd expect from a movie \"about a plastic doll\"\n"
     ]
    }
   ],
   "source": [
    "print(redditSentiment[1].raw)"
   ],
   "metadata": {
    "collapsed": false,
    "ExecuteTime": {
     "start_time": "2023-08-30T23:32:47.294561Z",
     "end_time": "2023-08-30T23:32:47.314692Z"
    }
   }
  },
  {
   "cell_type": "code",
   "execution_count": 39,
   "outputs": [
    {
     "name": "stdout",
     "output_type": "stream",
     "text": [
      "['7 - destroyer of young girls self image, Doll', ' 5 - too much time', ' 6 - destroyer of Ben Shapiro', ' 5 - Osama Bin Laden, Bratz movies', \" 9 - doesn't actually glorify American militarism and nuclear weapons\", ' 7 - full frontal nudity', ' 2 - conservatives, feminism in films', ' 5 - plastic controversy', ' 5 - unrelated', ' 6 - political controversy, east Vietnam/ west Philippines sea', ' 6 - right wing grifters, review videos', ' 7 - feminism, social statements, patriarchy', ' 4 - anti-barbie people, outrage merchants', \" 9 - Schindler's list, factory\", ' 8 - political expectations from a plastic doll', '']\n"
     ]
    }
   ],
   "source": [
    "print(redditSentiment[1].analysis)"
   ],
   "metadata": {
    "collapsed": false,
    "ExecuteTime": {
     "start_time": "2023-08-30T23:32:48.997834Z",
     "end_time": "2023-08-30T23:32:49.018418Z"
    }
   }
  },
  {
   "cell_type": "code",
   "execution_count": 40,
   "outputs": [
    {
     "data": {
      "text/plain": "\"Oppenheimer (2023) and Barbie (2023) open the same day. One is about the invention of the atomic bomb. The other is about a plastic doll. Guess which one stoked the most political outrage. Go on, take a wild fuckin' guess\""
     },
     "execution_count": 40,
     "metadata": {},
     "output_type": "execute_result"
    }
   ],
   "source": [
    "redditSentiment[1].title"
   ],
   "metadata": {
    "collapsed": false,
    "ExecuteTime": {
     "start_time": "2023-08-30T23:32:58.829153Z",
     "end_time": "2023-08-30T23:32:58.876794Z"
    }
   }
  },
  {
   "cell_type": "code",
   "execution_count": null,
   "outputs": [],
   "source": [
    "Analyse the sentiment of 16 Reddit comments under a post - \"Oppenheimer (2023) and Barbie (2023) open the same day. One is about the invention of the atomic bomb. The other is about a plastic doll. Guess which one stoked the most political outrage. Go on, take a wild fuckin' guess\", use the delimiter \"\\n\\n==COMMENT==\\n\\n\" to distinguish individual comments. Your goal is to write sentiment analysis for each comment towards the topic - \"movie Oppenheimer\", in a format RATING - KEYWORDS. Where RATING is a number from 0 to 10, with 0 representing drastically negative attitude to the topic, 10 for a drastically positive, or 5 for neutral or a comment unrelated to a topic. KEYWORDS are 2-3 words or phrases taken unchanged from a comment, which are most indicative of reasons for such attitude, separate them with a comma (,). Use a semicolon (;) as the delimiter between each comment analysis. Example: \"8 - Exciting visuals, Nolan, direction; 4 - Confusing plot, slow pacing; 5 - long duration, too many characters;\""
   ],
   "metadata": {
    "collapsed": false
   }
  }
 ],
 "metadata": {
  "kernelspec": {
   "display_name": "Python 3",
   "language": "python",
   "name": "python3"
  },
  "language_info": {
   "codemirror_mode": {
    "name": "ipython",
    "version": 2
   },
   "file_extension": ".py",
   "mimetype": "text/x-python",
   "name": "python",
   "nbconvert_exporter": "python",
   "pygments_lexer": "ipython2",
   "version": "2.7.6"
  }
 },
 "nbformat": 4,
 "nbformat_minor": 0
}
