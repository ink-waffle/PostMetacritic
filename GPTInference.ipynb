{
 "cells": [
  {
   "cell_type": "code",
   "execution_count": 1,
   "metadata": {
    "collapsed": true,
    "ExecuteTime": {
     "start_time": "2023-09-12T12:55:10.184963Z",
     "end_time": "2023-09-12T12:55:10.574978Z"
    }
   },
   "outputs": [
    {
     "ename": "FileNotFoundError",
     "evalue": "[Errno 2] No such file or directory: 'mydata.jsonl'",
     "output_type": "error",
     "traceback": [
      "\u001B[1;31m---------------------------------------------------------------------------\u001B[0m",
      "\u001B[1;31mFileNotFoundError\u001B[0m                         Traceback (most recent call last)",
      "Cell \u001B[1;32mIn[1], line 10\u001B[0m\n\u001B[0;32m      7\u001B[0m openai\u001B[38;5;241m.\u001B[39morganization \u001B[38;5;241m=\u001B[39m openai_keys[\u001B[38;5;124m'\u001B[39m\u001B[38;5;124morganization\u001B[39m\u001B[38;5;124m'\u001B[39m]\n\u001B[0;32m      8\u001B[0m openai\u001B[38;5;241m.\u001B[39mapi_key \u001B[38;5;241m=\u001B[39m openai_keys[\u001B[38;5;124m'\u001B[39m\u001B[38;5;124mapi_key\u001B[39m\u001B[38;5;124m'\u001B[39m]\n\u001B[0;32m      9\u001B[0m openai\u001B[38;5;241m.\u001B[39mFile\u001B[38;5;241m.\u001B[39mcreate(\n\u001B[1;32m---> 10\u001B[0m   file\u001B[38;5;241m=\u001B[39m\u001B[38;5;28;43mopen\u001B[39;49m\u001B[43m(\u001B[49m\u001B[38;5;124;43m\"\u001B[39;49m\u001B[38;5;124;43mmydata.jsonl\u001B[39;49m\u001B[38;5;124;43m\"\u001B[39;49m\u001B[43m,\u001B[49m\u001B[43m \u001B[49m\u001B[38;5;124;43m\"\u001B[39;49m\u001B[38;5;124;43mrb\u001B[39;49m\u001B[38;5;124;43m\"\u001B[39;49m\u001B[43m)\u001B[49m,\n\u001B[0;32m     11\u001B[0m   purpose\u001B[38;5;241m=\u001B[39m\u001B[38;5;124m'\u001B[39m\u001B[38;5;124mfine-tune\u001B[39m\u001B[38;5;124m'\u001B[39m\n\u001B[0;32m     12\u001B[0m )\n",
      "File \u001B[1;32m~\\anaconda3\\lib\\site-packages\\IPython\\core\\interactiveshell.py:284\u001B[0m, in \u001B[0;36m_modified_open\u001B[1;34m(file, *args, **kwargs)\u001B[0m\n\u001B[0;32m    277\u001B[0m \u001B[38;5;28;01mif\u001B[39;00m file \u001B[38;5;129;01min\u001B[39;00m {\u001B[38;5;241m0\u001B[39m, \u001B[38;5;241m1\u001B[39m, \u001B[38;5;241m2\u001B[39m}:\n\u001B[0;32m    278\u001B[0m     \u001B[38;5;28;01mraise\u001B[39;00m \u001B[38;5;167;01mValueError\u001B[39;00m(\n\u001B[0;32m    279\u001B[0m         \u001B[38;5;124mf\u001B[39m\u001B[38;5;124m\"\u001B[39m\u001B[38;5;124mIPython won\u001B[39m\u001B[38;5;124m'\u001B[39m\u001B[38;5;124mt let you open fd=\u001B[39m\u001B[38;5;132;01m{\u001B[39;00mfile\u001B[38;5;132;01m}\u001B[39;00m\u001B[38;5;124m by default \u001B[39m\u001B[38;5;124m\"\u001B[39m\n\u001B[0;32m    280\u001B[0m         \u001B[38;5;124m\"\u001B[39m\u001B[38;5;124mas it is likely to crash IPython. If you know what you are doing, \u001B[39m\u001B[38;5;124m\"\u001B[39m\n\u001B[0;32m    281\u001B[0m         \u001B[38;5;124m\"\u001B[39m\u001B[38;5;124myou can use builtins\u001B[39m\u001B[38;5;124m'\u001B[39m\u001B[38;5;124m open.\u001B[39m\u001B[38;5;124m\"\u001B[39m\n\u001B[0;32m    282\u001B[0m     )\n\u001B[1;32m--> 284\u001B[0m \u001B[38;5;28;01mreturn\u001B[39;00m io_open(file, \u001B[38;5;241m*\u001B[39margs, \u001B[38;5;241m*\u001B[39m\u001B[38;5;241m*\u001B[39mkwargs)\n",
      "\u001B[1;31mFileNotFoundError\u001B[0m: [Errno 2] No such file or directory: 'mydata.jsonl'"
     ]
    }
   ],
   "source": [
    "import os\n",
    "import openai\n",
    "import json\n",
    "from Keys import openai_keys\n",
    "import re\n",
    "\n",
    "\n",
    "openai.organization = openai_keys['organization']\n",
    "openai.api_key = openai_keys['api_key']\n",
    "openai.File.create(\n",
    "  file=open(\"mydata.jsonl\", \"rb\"),\n",
    "  purpose='fine-tune'\n",
    ")"
   ]
  },
  {
   "cell_type": "code",
   "execution_count": 8,
   "outputs": [],
   "source": [
    "from IPython.display import Markdown, display\n",
    "\n",
    "prompts = [{\"role\": \"system\", \"content\":\n",
    "    'You are a software development specialist'}]"
   ],
   "metadata": {
    "collapsed": false,
    "ExecuteTime": {
     "start_time": "2023-09-12T13:18:02.700645Z",
     "end_time": "2023-09-12T13:18:02.708644Z"
    }
   }
  },
  {
   "cell_type": "code",
   "execution_count": 13,
   "outputs": [
    {
     "data": {
      "text/plain": "<IPython.core.display.Markdown object>",
      "text/markdown": "To get the subtitles (also known as closed captions) for a YouTube video, `captions().list` method provided by Youtube Data API v3 can be used. \n\nFor more details, check the official YouTube API documentation: https://developers.google.com/youtube/v3/docs/captions\n\nHowever, please note that not all videos have available closed captions, and some may have multiple sets of captions in different languages. You can specify the language of the subtitle that you want.\n\nBut it's important to note that downloading YouTube captions requires proper authorization with OAuth 2.0 using the 'https://www.googleapis.com/auth/youtube.force-ssl' scope.\n\nHere is a simple demonstration code. But remember, for proper OAuth 2.0 setup and usage, please refer to the official Google OAuth 2.0 guide:\n\n```python\nfrom googleapiclient.errors import HttpError\nfrom googleapiclient.http import MediaIoBaseDownload\nfrom google.oauth2.credentials import Credentials\nimport os\nimport io\n\n# Load credentials from the 'token.json' file\ncreds = Credentials.from_authorized_user_file('token.json')\n\nyoutube = build('youtube', 'v3', credentials=creds)\n\ndef get_captions(youtube, video_id):\n    try:\n        # Retrieve caption tracks list\n        captions = youtube.captions().list(\n            part=\"snippet\",\n            videoId=video_id\n        ).execute()\n\n        # Select the first caption track\n        caption = captions['items'][0]\n\n        # Download the caption track in the language you want\n        subtitle = youtube.captions().download(\n            id=caption['id'],\n            tfmt='srt' # VTT or SRT subtitle formats.\n        ).execute()\n\n        # Save the subtitle to a .srt (or .vtt) file\n        with open(\"subtitle.srt\", \"w\", encoding=\"utf-8\") as f:\n            f.write(subtitle)\n\n        print(\"Subtitle has been written to subtitle.srt\")\n\n    except HttpError as e:\n        print(f\"A HTTP error {e.resp.status} occurred:\\n{e.content}\")\n\nget_captions(youtube, 'VIDEO_ID') # place your video id here\n```\n\nIn the code snippet above:\n\n1. We are loading the user credentials from 'token.json'. You should replace this with the path to your OAuth 2.0 credentials file. You can generate this file using Google's OAuth 2.0 Playground and save it to your script's directory.\n\n2. You need to replace \"VIDEO_ID\" with your actual video ID.\n\nPlease keep in mind that reading the captions of a Youtube video with the API costs 200 quota units, and writing a simple list operation costs 50. Always be mindful of Google's daily quota limits when using their API services."
     },
     "metadata": {},
     "output_type": "display_data"
    }
   ],
   "source": [
    "prompt = input()\n",
    "prompts.append({\"role\": \"user\", \"content\": prompt})\n",
    "chat = openai.ChatCompletion.create(model=\"gpt-4\", messages=prompts)\n",
    "response = (chat.choices[0].message.content)\n",
    "display(Markdown(response))\n",
    "prompts.append({\"role\": \"assistant\", \"content\": response})"
   ],
   "metadata": {
    "collapsed": false,
    "ExecuteTime": {
     "start_time": "2023-09-12T16:28:07.631697Z",
     "end_time": "2023-09-12T16:29:22.184252Z"
    }
   }
  },
  {
   "cell_type": "code",
   "execution_count": 11,
   "outputs": [
    {
     "data": {
      "text/plain": "<IPython.core.display.Markdown object>",
      "text/markdown": "To get the IDs of all Youtube videos from a specific channel, you can use the YouTube API with the Google API client for Python. Here's a basic script to get you started:\n\n```python\nfrom googleapiclient.discovery import build\nfrom googleapiclient.errors import HttpError\n\napi_key = 'YOUR_API_KEY' # replace with your own API key\nyoutube = build('youtube', 'v3', developerKey=api_key)\n\ndef get_channel_videos(channel_id):\n    res = youtube.channels().list(id=channel_id, part='contentDetails').execute()\n    playlist_id = res['items'][0]['contentDetails']['relatedPlaylists']['uploads']\n\n    videos = []\n    next_page_token = None\n\n    while 1:\n        res = youtube.playlistItems().list(playlistId=playlist_id, \n                                           part='snippet', \n                                           maxResults=50,\n                                           pageToken=next_page_token).execute()\n        videos += res['items']\n        next_page_token = res.get('nextPageToken')\n\n        if next_page_token is None:\n            break\n\n    return videos\n\nvideos = get_channel_videos('CHANNEL_ID') # replace with the channel id \nvideo_ids = list(map(lambda x:x['snippet']['resourceId']['videoId'], videos))\n\nprint(\"\\n\".join(video_ids))\n```\n\nThis script will retrieve all the videos from the specified channel's Uploads playlist, then extract the video ID from each video in that playlist.\n\nImportant points to note:\n- Replace `'YOUR_API_KEY'` with your actual API key that you obtained from the Google Developer Console.\n- Replace `'CHANNEL_ID'` with the ID of the YouTube Channel from which you want to fetch all video IDs.\n- API quotas mean you can only make a certain number of requests per day - if you are exceeding your quota, you may need to wait, or request additional quota.\n- Depending on the number of videos, fetching all video IDs might take some time. If request times out or you encounter a similar problem, consider fetching in batches or using pagination.\n"
     },
     "metadata": {},
     "output_type": "display_data"
    }
   ],
   "source": [
    "display(Markdown(prompts[2]['content']))"
   ],
   "metadata": {
    "collapsed": false,
    "ExecuteTime": {
     "start_time": "2023-09-12T15:36:18.128310Z",
     "end_time": "2023-09-12T15:36:18.192309Z"
    }
   }
  },
  {
   "cell_type": "code",
   "execution_count": null,
   "outputs": [],
   "source": [],
   "metadata": {
    "collapsed": false
   }
  }
 ],
 "metadata": {
  "kernelspec": {
   "display_name": "Python 3",
   "language": "python",
   "name": "python3"
  },
  "language_info": {
   "codemirror_mode": {
    "name": "ipython",
    "version": 2
   },
   "file_extension": ".py",
   "mimetype": "text/x-python",
   "name": "python",
   "nbconvert_exporter": "python",
   "pygments_lexer": "ipython2",
   "version": "2.7.6"
  }
 },
 "nbformat": 4,
 "nbformat_minor": 0
}
